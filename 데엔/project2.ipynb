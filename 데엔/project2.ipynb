{
 "cells": [
  {
   "cell_type": "code",
   "execution_count": 64,
   "id": "bd6aaf2d",
   "metadata": {},
   "outputs": [
    {
     "name": "stdout",
     "output_type": "stream",
     "text": [
      "['physics', 'calculus', 'poetry', 'history']\n"
     ]
    }
   ],
   "source": [
    "subjects = ['physics','calculus','poetry','history']\n",
    "print(subjects)"
   ]
  },
  {
   "cell_type": "code",
   "execution_count": 65,
   "id": "2294ffbe",
   "metadata": {},
   "outputs": [
    {
     "name": "stdout",
     "output_type": "stream",
     "text": [
      "[98, 97, 85, 88]\n"
     ]
    }
   ],
   "source": [
    "grades = [98,97,85,88]\n",
    "print(grades)"
   ]
  },
  {
   "cell_type": "code",
   "execution_count": 66,
   "id": "ac84a382",
   "metadata": {},
   "outputs": [
    {
     "name": "stdout",
     "output_type": "stream",
     "text": [
      "[['pyshics', 98], ['calculus', 97], ['poetry', 85], ['history', 88]]\n"
     ]
    }
   ],
   "source": [
    "gradebook = [['pyshics',98],['calculus',97],['poetry',85],['history',88]]\n",
    "print(gradebook)"
   ]
  },
  {
   "cell_type": "code",
   "execution_count": 67,
   "id": "4dd6e965",
   "metadata": {},
   "outputs": [
    {
     "name": "stdout",
     "output_type": "stream",
     "text": [
      "[['pyshics', 98], ['calculus', 97], ['poetry', 85], ['history', 88], ['cumputer science', 100]]\n"
     ]
    }
   ],
   "source": [
    "gradebook.append(['cumputer science',100])\n",
    "print(gradebook)"
   ]
  },
  {
   "cell_type": "code",
   "execution_count": 95,
   "id": "4d86b1d6",
   "metadata": {},
   "outputs": [
    {
     "name": "stdout",
     "output_type": "stream",
     "text": [
      "[['pyshics', 98], ['calculus', 97], ['history', 88], ['cumputer science', 100], ['visual arts', 98], ['visual arts', 93], ['visual arts', 93]]\n"
     ]
    }
   ],
   "source": [
    "gradebook.append(['visual arts',93])\n",
    "print(gradebook)"
   ]
  },
  {
   "cell_type": "code",
   "execution_count": 86,
   "id": "b7b09751",
   "metadata": {},
   "outputs": [
    {
     "name": "stdout",
     "output_type": "stream",
     "text": [
      "98\n"
     ]
    }
   ],
   "source": [
    "gradebook[5][1]=98\n",
    "print(gradebook[5][1])"
   ]
  },
  {
   "cell_type": "code",
   "execution_count": 112,
   "id": "a5fda953",
   "metadata": {},
   "outputs": [
    {
     "name": "stdout",
     "output_type": "stream",
     "text": [
      "[['pyshics', 98], ['calculus', 97], ['history', 88], ['cumputer science', 100], ['visual arts', 98], ['visual arts', 93]]\n"
     ]
    }
   ],
   "source": [
    "gradebook.remove(['poetry',85])\n",
    "print(gradebook)"
   ]
  },
  {
   "cell_type": "code",
   "execution_count": 113,
   "id": "8ae02c15",
   "metadata": {},
   "outputs": [
    {
     "name": "stdout",
     "output_type": "stream",
     "text": [
      "[['pyshics', 98], ['calculus', 97], ['history', 88], ['cumputer science', 100], ['visual arts', 98]]\n"
     ]
    }
   ],
   "source": [
    "gradebook.remove(['visual arts',93])\n",
    "print(gradebook)"
   ]
  },
  {
   "cell_type": "code",
   "execution_count": 114,
   "id": "ed7d5458",
   "metadata": {},
   "outputs": [
    {
     "name": "stdout",
     "output_type": "stream",
     "text": [
      "[['pyshics', 98], ['calculus', 97], ['poetry', 'Pass'], ['history', 88], ['cumputer science', 100], ['visual arts', 98]]\n"
     ]
    }
   ],
   "source": [
    "gradebook.insert([2][0],['poetry','Pass'])\n",
    "print(gradebook)"
   ]
  },
  {
   "cell_type": "code",
   "execution_count": 119,
   "id": "2deda488",
   "metadata": {},
   "outputs": [
    {
     "name": "stdout",
     "output_type": "stream",
     "text": [
      "[['politics', 80], ['latin', 96], ['dance', 97], ['architecture', 65], ['pyshics', 98], ['calculus', 97], ['poetry', 'Pass'], ['history', 88], ['cumputer science', 100], ['visual arts', 98]]\n"
     ]
    }
   ],
   "source": [
    "last_semester_gradebook= [['politics', 80], ['latin', 96], ['dance', 97], ['architecture', 65]]\n",
    "\n",
    "full_gradebook = last_semester_gradebook + gradebook\n",
    "\n",
    "print(full_gradebook)\n"
   ]
  }
 ],
 "metadata": {
  "kernelspec": {
   "display_name": "Python 3 (ipykernel)",
   "language": "python",
   "name": "python3"
  },
  "language_info": {
   "codemirror_mode": {
    "name": "ipython",
    "version": 3
   },
   "file_extension": ".py",
   "mimetype": "text/x-python",
   "name": "python",
   "nbconvert_exporter": "python",
   "pygments_lexer": "ipython3",
   "version": "3.11.4"
  }
 },
 "nbformat": 4,
 "nbformat_minor": 5
}
